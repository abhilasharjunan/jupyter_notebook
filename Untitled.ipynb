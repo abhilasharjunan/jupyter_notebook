{
 "cells": [
  {
   "cell_type": "code",
   "execution_count": 1,
   "metadata": {},
   "outputs": [],
   "source": [
    "import requests\n",
    "from bs4 import BeautifulSoup\n",
    "\n",
    "# Get all get possible expiry date details for the given script\n",
    "def get_expiry_from_option_chain (symbol):\n",
    "\n",
    "    # Base url page for the symbole with default expiry date\n",
    "    Base_url = \"https://www.nseindia.com/live_market/dynaContent/live_watch/option_chain/optionKeys.jsp?symbol=\" + symbol + \"&date=-\"\n",
    "\n",
    "    # Load the page and sent to HTML parse\n",
    "    page = requests.get(Base_url)\n",
    "    soup = BeautifulSoup(page.content, 'html.parser')\n",
    "\n",
    "    # Locate where expiry date details are available\n",
    "    locate_expiry_point = soup.find(id=\"date\")\n",
    "    # Convert as rows based on tag option\n",
    "    expiry_rows = locate_expiry_point.find_all('option')\n",
    "\n",
    "    index = 0\n",
    "    expiry_list = []\n",
    "    for each_row in expiry_rows:\n",
    "        # skip first row as it does not have value\n",
    "        if index <= 0:\n",
    "            index = index + 1\n",
    "            continue\n",
    "        index = index + 1\n",
    "        # Remove HTML tag and save to list\n",
    "        expiry_list.append(BeautifulSoup(str(each_row), 'html.parser').get_text())\n",
    "\n",
    "    # print(expiry_list)\n",
    "    return expiry_list # return list\n",
    "\n",
    "def get_strike_price_from_option_chain(symbol, expdate):\n",
    "\n",
    "    Base_url = \"https://www.nseindia.com/live_market/dynaContent/live_watch/option_chain/optionKeys.jsp?symbol=\" + symbol + \"&date=\" + expdate\n",
    "\n",
    "    page = requests.get(Base_url)\n",
    "    soup = BeautifulSoup(page.content, 'html.parser')\n",
    "\n",
    "    table_cls_2 = soup.find(id=\"octable\")\n",
    "    req_row = table_cls_2.find_all('tr')\n",
    "\n",
    "    strike_price_list = []\n",
    "\n",
    "    for row_number, tr_nos in enumerate(req_row):\n",
    "\n",
    "        # This ensures that we use only the rows with values\n",
    "        if row_number <= 1 or row_number == len(req_row) - 1:\n",
    "            continue\n",
    "\n",
    "        td_columns = tr_nos.find_all('td')\n",
    "        strike_price = int(float(BeautifulSoup(str(td_columns[11]), 'html.parser').get_text()))\n",
    "        strike_price_list.append(strike_price)\n",
    "\n",
    "    # print (strike_price_list)\n",
    "    return strike_price_list"
   ]
  },
  {
   "cell_type": "code",
   "execution_count": 3,
   "metadata": {},
   "outputs": [
    {
     "data": {
      "text/plain": [
       "[25200,\n",
       " 25300,\n",
       " 25400,\n",
       " 25500,\n",
       " 25600,\n",
       " 25700,\n",
       " 25800,\n",
       " 25900,\n",
       " 26000,\n",
       " 26100,\n",
       " 26200,\n",
       " 26300,\n",
       " 26400,\n",
       " 26500,\n",
       " 26600,\n",
       " 26700,\n",
       " 26800,\n",
       " 26900,\n",
       " 27000,\n",
       " 27100,\n",
       " 27200,\n",
       " 27300,\n",
       " 27400,\n",
       " 27500,\n",
       " 27600,\n",
       " 27700,\n",
       " 27800,\n",
       " 27900,\n",
       " 28000,\n",
       " 28100,\n",
       " 28200,\n",
       " 28300,\n",
       " 28400,\n",
       " 28500,\n",
       " 28600,\n",
       " 28700,\n",
       " 28800,\n",
       " 28900,\n",
       " 29000,\n",
       " 29100,\n",
       " 29200,\n",
       " 29300,\n",
       " 29400,\n",
       " 29500,\n",
       " 29600,\n",
       " 29700,\n",
       " 29800,\n",
       " 29900,\n",
       " 30000,\n",
       " 30100,\n",
       " 30200,\n",
       " 30300,\n",
       " 30400,\n",
       " 30500,\n",
       " 30600,\n",
       " 30700,\n",
       " 30800,\n",
       " 30900,\n",
       " 31000,\n",
       " 31100,\n",
       " 31200,\n",
       " 31300,\n",
       " 31400,\n",
       " 31500,\n",
       " 31600,\n",
       " 31700,\n",
       " 31800,\n",
       " 31900,\n",
       " 32000,\n",
       " 32100,\n",
       " 32200]"
      ]
     },
     "execution_count": 3,
     "metadata": {},
     "output_type": "execute_result"
    }
   ],
   "source": [
    "get_strike_price_from_option_chain(\"BANKNIFTY\",\"3OCT2019\")"
   ]
  },
  {
   "cell_type": "code",
   "execution_count": 4,
   "metadata": {},
   "outputs": [
    {
     "data": {
      "text/plain": [
       "['3OCT2019',\n",
       " '10OCT2019',\n",
       " '17OCT2019',\n",
       " '24OCT2019',\n",
       " '31OCT2019',\n",
       " '7NOV2019',\n",
       " '14NOV2019',\n",
       " '21NOV2019',\n",
       " '28NOV2019',\n",
       " '26DEC2019']"
      ]
     },
     "execution_count": 4,
     "metadata": {},
     "output_type": "execute_result"
    }
   ],
   "source": [
    "get_expiry_from_option_chain(\"BANKNIFTY\")"
   ]
  },
  {
   "cell_type": "code",
   "execution_count": null,
   "metadata": {},
   "outputs": [],
   "source": []
  }
 ],
 "metadata": {
  "kernelspec": {
   "display_name": "Python 3",
   "language": "python",
   "name": "python3"
  },
  "language_info": {
   "codemirror_mode": {
    "name": "ipython",
    "version": 3
   },
   "file_extension": ".py",
   "mimetype": "text/x-python",
   "name": "python",
   "nbconvert_exporter": "python",
   "pygments_lexer": "ipython3",
   "version": "3.7.3"
  }
 },
 "nbformat": 4,
 "nbformat_minor": 2
}
