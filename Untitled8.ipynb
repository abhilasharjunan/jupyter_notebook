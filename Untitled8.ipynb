{
 "cells": [
  {
   "cell_type": "code",
   "execution_count": 1,
   "metadata": {},
   "outputs": [
    {
     "data": {
      "text/plain": [
       "745.2000000000016"
      ]
     },
     "execution_count": 1,
     "metadata": {},
     "output_type": "execute_result"
    }
   ],
   "source": [
    "import pandas as pd\n",
    "df = pd.read_csv(\"C:/Personal/Finance/Stocks/Trading/itc/01-05-2019-TO-30-04-2020RELIANCEEQN.csv\",usecols = lambda column : column not in \n",
    "[\"Average Price\" , \"Total Traded Quantity\", \"Turnover\",\"No. of Trades\", \"Deliverable Qty\",\"% Dly Qt to Traded Qty\", \"Series\",\"\"]);\n",
    "df[\"Profit\"] = df['Open Price'] - df['Prev Close']\n",
    "df[\"Profit\"].sum()"
   ]
  },
  {
   "cell_type": "code",
   "execution_count": null,
   "metadata": {},
   "outputs": [
    {
     "name": "stdout",
     "output_type": "stream",
     "text": [
      "Downloading from NSE\n"
     ]
    }
   ],
   "source": [
    "from nsepy import get_history\n",
    "from datetime import date as dt\n",
    "from datetime import timedelta\n",
    "import csv\n",
    "datas= \"TCS\"\n",
    "end_day = dt.today()\n",
    "start_day = end_day - timedelta(500)\n",
    "\n",
    "try :\n",
    "    print('Downloading from NSE')        \n",
    "    stock = get_history(datas, start_day, end_day)\n",
    "except:\n",
    "    print('Downloading not start')"
   ]
  },
  {
   "cell_type": "code",
   "execution_count": null,
   "metadata": {},
   "outputs": [],
   "source": []
  }
 ],
 "metadata": {
  "kernelspec": {
   "display_name": "Python 3",
   "language": "python",
   "name": "python3"
  },
  "language_info": {
   "codemirror_mode": {
    "name": "ipython",
    "version": 3
   },
   "file_extension": ".py",
   "mimetype": "text/x-python",
   "name": "python",
   "nbconvert_exporter": "python",
   "pygments_lexer": "ipython3",
   "version": "3.7.3"
  }
 },
 "nbformat": 4,
 "nbformat_minor": 2
}
